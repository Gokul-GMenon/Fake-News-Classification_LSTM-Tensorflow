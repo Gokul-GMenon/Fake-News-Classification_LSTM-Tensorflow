{
  "cells": [
    {
      "cell_type": "code",
      "execution_count": 3,
      "metadata": {
        "id": "UkN8foROd-5n"
      },
      "outputs": [],
      "source": [
        "import os\n",
        "import pandas as pd\n",
        "import numpy as np\n",
        "df_train = pd.read_csv(os.path.join('Dataset', 'news', 'train.csv'))"
      ]
    },
    {
      "cell_type": "code",
      "execution_count": 4,
      "metadata": {
        "colab": {
          "base_uri": "https://localhost:8080/",
          "height": 35
        },
        "id": "O2MiNSvUP8qO",
        "outputId": "e1265af9-d9d5-4b18-a59f-96d58ea5b9a6"
      },
      "outputs": [
        {
          "data": {
            "application/vnd.google.colaboratory.intrinsic+json": {
              "type": "string"
            },
            "text/plain": [
              "'2.7.0'"
            ]
          },
          "execution_count": 4,
          "metadata": {},
          "output_type": "execute_result"
        }
      ],
      "source": [
        "import tensorflow as tf\n",
        "tf.__version__"
      ]
    },
    {
      "cell_type": "code",
      "execution_count": 5,
      "metadata": {
        "colab": {
          "base_uri": "https://localhost:8080/",
          "height": 223
        },
        "id": "ldVS8dL_eGZ2",
        "outputId": "86504e9b-d6be-4314-e550-8d500ec2ef5b"
      },
      "outputs": [
        {
          "data": {
            "text/html": [
              "\n",
              "  <div id=\"df-8c3ddb7c-7a0f-45d6-8986-c80befe85f07\">\n",
              "    <div class=\"colab-df-container\">\n",
              "      <div>\n",
              "<style scoped>\n",
              "    .dataframe tbody tr th:only-of-type {\n",
              "        vertical-align: middle;\n",
              "    }\n",
              "\n",
              "    .dataframe tbody tr th {\n",
              "        vertical-align: top;\n",
              "    }\n",
              "\n",
              "    .dataframe thead th {\n",
              "        text-align: right;\n",
              "    }\n",
              "</style>\n",
              "<table border=\"1\" class=\"dataframe\">\n",
              "  <thead>\n",
              "    <tr style=\"text-align: right;\">\n",
              "      <th></th>\n",
              "      <th>id</th>\n",
              "      <th>title</th>\n",
              "      <th>author</th>\n",
              "      <th>text</th>\n",
              "      <th>label</th>\n",
              "    </tr>\n",
              "  </thead>\n",
              "  <tbody>\n",
              "    <tr>\n",
              "      <th>0</th>\n",
              "      <td>0</td>\n",
              "      <td>House Dem Aide: We Didn’t Even See Comey’s Let...</td>\n",
              "      <td>Darrell Lucus</td>\n",
              "      <td>House Dem Aide: We Didn’t Even See Comey’s Let...</td>\n",
              "      <td>1</td>\n",
              "    </tr>\n",
              "    <tr>\n",
              "      <th>1</th>\n",
              "      <td>1</td>\n",
              "      <td>FLYNN: Hillary Clinton, Big Woman on Campus - ...</td>\n",
              "      <td>Daniel J. Flynn</td>\n",
              "      <td>Ever get the feeling your life circles the rou...</td>\n",
              "      <td>0</td>\n",
              "    </tr>\n",
              "    <tr>\n",
              "      <th>2</th>\n",
              "      <td>2</td>\n",
              "      <td>Why the Truth Might Get You Fired</td>\n",
              "      <td>Consortiumnews.com</td>\n",
              "      <td>Why the Truth Might Get You Fired October 29, ...</td>\n",
              "      <td>1</td>\n",
              "    </tr>\n",
              "    <tr>\n",
              "      <th>3</th>\n",
              "      <td>3</td>\n",
              "      <td>15 Civilians Killed In Single US Airstrike Hav...</td>\n",
              "      <td>Jessica Purkiss</td>\n",
              "      <td>Videos 15 Civilians Killed In Single US Airstr...</td>\n",
              "      <td>1</td>\n",
              "    </tr>\n",
              "    <tr>\n",
              "      <th>4</th>\n",
              "      <td>4</td>\n",
              "      <td>Iranian woman jailed for fictional unpublished...</td>\n",
              "      <td>Howard Portnoy</td>\n",
              "      <td>Print \\nAn Iranian woman has been sentenced to...</td>\n",
              "      <td>1</td>\n",
              "    </tr>\n",
              "  </tbody>\n",
              "</table>\n",
              "</div>\n",
              "      <button class=\"colab-df-convert\" onclick=\"convertToInteractive('df-8c3ddb7c-7a0f-45d6-8986-c80befe85f07')\"\n",
              "              title=\"Convert this dataframe to an interactive table.\"\n",
              "              style=\"display:none;\">\n",
              "        \n",
              "  <svg xmlns=\"http://www.w3.org/2000/svg\" height=\"24px\"viewBox=\"0 0 24 24\"\n",
              "       width=\"24px\">\n",
              "    <path d=\"M0 0h24v24H0V0z\" fill=\"none\"/>\n",
              "    <path d=\"M18.56 5.44l.94 2.06.94-2.06 2.06-.94-2.06-.94-.94-2.06-.94 2.06-2.06.94zm-11 1L8.5 8.5l.94-2.06 2.06-.94-2.06-.94L8.5 2.5l-.94 2.06-2.06.94zm10 10l.94 2.06.94-2.06 2.06-.94-2.06-.94-.94-2.06-.94 2.06-2.06.94z\"/><path d=\"M17.41 7.96l-1.37-1.37c-.4-.4-.92-.59-1.43-.59-.52 0-1.04.2-1.43.59L10.3 9.45l-7.72 7.72c-.78.78-.78 2.05 0 2.83L4 21.41c.39.39.9.59 1.41.59.51 0 1.02-.2 1.41-.59l7.78-7.78 2.81-2.81c.8-.78.8-2.07 0-2.86zM5.41 20L4 18.59l7.72-7.72 1.47 1.35L5.41 20z\"/>\n",
              "  </svg>\n",
              "      </button>\n",
              "      \n",
              "  <style>\n",
              "    .colab-df-container {\n",
              "      display:flex;\n",
              "      flex-wrap:wrap;\n",
              "      gap: 12px;\n",
              "    }\n",
              "\n",
              "    .colab-df-convert {\n",
              "      background-color: #E8F0FE;\n",
              "      border: none;\n",
              "      border-radius: 50%;\n",
              "      cursor: pointer;\n",
              "      display: none;\n",
              "      fill: #1967D2;\n",
              "      height: 32px;\n",
              "      padding: 0 0 0 0;\n",
              "      width: 32px;\n",
              "    }\n",
              "\n",
              "    .colab-df-convert:hover {\n",
              "      background-color: #E2EBFA;\n",
              "      box-shadow: 0px 1px 2px rgba(60, 64, 67, 0.3), 0px 1px 3px 1px rgba(60, 64, 67, 0.15);\n",
              "      fill: #174EA6;\n",
              "    }\n",
              "\n",
              "    [theme=dark] .colab-df-convert {\n",
              "      background-color: #3B4455;\n",
              "      fill: #D2E3FC;\n",
              "    }\n",
              "\n",
              "    [theme=dark] .colab-df-convert:hover {\n",
              "      background-color: #434B5C;\n",
              "      box-shadow: 0px 1px 3px 1px rgba(0, 0, 0, 0.15);\n",
              "      filter: drop-shadow(0px 1px 2px rgba(0, 0, 0, 0.3));\n",
              "      fill: #FFFFFF;\n",
              "    }\n",
              "  </style>\n",
              "\n",
              "      <script>\n",
              "        const buttonEl =\n",
              "          document.querySelector('#df-8c3ddb7c-7a0f-45d6-8986-c80befe85f07 button.colab-df-convert');\n",
              "        buttonEl.style.display =\n",
              "          google.colab.kernel.accessAllowed ? 'block' : 'none';\n",
              "\n",
              "        async function convertToInteractive(key) {\n",
              "          const element = document.querySelector('#df-8c3ddb7c-7a0f-45d6-8986-c80befe85f07');\n",
              "          const dataTable =\n",
              "            await google.colab.kernel.invokeFunction('convertToInteractive',\n",
              "                                                     [key], {});\n",
              "          if (!dataTable) return;\n",
              "\n",
              "          const docLinkHtml = 'Like what you see? Visit the ' +\n",
              "            '<a target=\"_blank\" href=https://colab.research.google.com/notebooks/data_table.ipynb>data table notebook</a>'\n",
              "            + ' to learn more about interactive tables.';\n",
              "          element.innerHTML = '';\n",
              "          dataTable['output_type'] = 'display_data';\n",
              "          await google.colab.output.renderOutput(dataTable, element);\n",
              "          const docLink = document.createElement('div');\n",
              "          docLink.innerHTML = docLinkHtml;\n",
              "          element.appendChild(docLink);\n",
              "        }\n",
              "      </script>\n",
              "    </div>\n",
              "  </div>\n",
              "  "
            ],
            "text/plain": [
              "   id  ... label\n",
              "0   0  ...     1\n",
              "1   1  ...     0\n",
              "2   2  ...     1\n",
              "3   3  ...     1\n",
              "4   4  ...     1\n",
              "\n",
              "[5 rows x 5 columns]"
            ]
          },
          "metadata": {},
          "output_type": "display_data"
        },
        {
          "name": "stdout",
          "output_type": "stream",
          "text": [
            "No. of samples:  20800\n"
          ]
        }
      ],
      "source": [
        "display(df_train.head())\n",
        "print('No. of samples: ',np.shape(np.array(df_train))[0])"
      ]
    },
    {
      "cell_type": "code",
      "execution_count": 6,
      "metadata": {
        "colab": {
          "base_uri": "https://localhost:8080/"
        },
        "id": "5J2uWeileNkm",
        "outputId": "a972a8b0-c586-4193-9bd4-a82c76633597"
      },
      "outputs": [
        {
          "name": "stdout",
          "output_type": "stream",
          "text": [
            "Null values in df_train:  2554\n"
          ]
        }
      ],
      "source": [
        "\"\"\"\n",
        "Null values in df_train\n",
        "\"\"\"\n",
        "\n",
        "# To see the sum of the number of null values in each column\n",
        "df_train.isnull().sum()#.sum()\n",
        "\n",
        "# To count all those numbers into a single total sum\n",
        "print(\"Null values in df_train: \", df_train.isnull().sum().sum())"
      ]
    },
    {
      "cell_type": "code",
      "execution_count": 7,
      "metadata": {
        "id": "6XVYnnd8eO2I"
      },
      "outputs": [],
      "source": [
        "\"\"\"\n",
        "Dropping Null values\n",
        "\"\"\"\n",
        "# Dropping all rows(hence axis = 0) which has any of the columns with NULL values(hence how='any').\n",
        "df_train.dropna(axis = 0, how='any', inplace=True)"
      ]
    },
    {
      "cell_type": "code",
      "execution_count": 8,
      "metadata": {
        "colab": {
          "base_uri": "https://localhost:8080/"
        },
        "id": "tVcc-TJueQ7s",
        "outputId": "f4f81be1-faa2-4ac9-df98-33e6b0f082ca"
      },
      "outputs": [
        {
          "name": "stdout",
          "output_type": "stream",
          "text": [
            "Null values in df_train:  0\n"
          ]
        }
      ],
      "source": [
        "print(\"Null values in df_train: \", df_train.isnull().sum().sum())"
      ]
    },
    {
      "cell_type": "code",
      "execution_count": 9,
      "metadata": {
        "id": "_t5UOBvSeSkL"
      },
      "outputs": [],
      "source": [
        "# resetting indices of the rows after all NULL rows were removed\n",
        "df_train.reset_index(inplace=True)"
      ]
    },
    {
      "cell_type": "code",
      "execution_count": 10,
      "metadata": {
        "id": "rTIT65DOeYcL"
      },
      "outputs": [],
      "source": [
        "from tensorflow.keras.preprocessing.sequence import pad_sequences\n",
        "from tensorflow.keras.preprocessing.text import one_hot\n",
        "from tensorflow.keras.models import Sequential\n",
        "from tensorflow.keras.layers import Dense\n",
        "from tensorflow.keras.layers import Embedding\n",
        "from tensorflow.keras.layers import LSTM"
      ]
    },
    {
      "cell_type": "code",
      "execution_count": 11,
      "metadata": {
        "colab": {
          "base_uri": "https://localhost:8080/"
        },
        "id": "nG_SLCSvhx4m",
        "outputId": "f2c424af-77fe-4e85-b4e1-84d5f53f27da"
      },
      "outputs": [
        {
          "name": "stdout",
          "output_type": "stream",
          "text": [
            "Default GPU Device:/device:GPU:0\n"
          ]
        }
      ],
      "source": [
        "if tf.test.gpu_device_name(): \n",
        "\n",
        "    print('Default GPU Device:{}'.format(tf.test.gpu_device_name()))\n",
        "\n",
        "else:\n",
        "\n",
        "   print(\"Please install GPU version of TF\")"
      ]
    },
    {
      "cell_type": "markdown",
      "metadata": {
        "id": "Bu2Gqta_ehzf"
      },
      "source": [
        "#### The method we follow doesn't evolve removing stop words. This is because we're using Word2Vec where these words and their context can actually contribute to model accuracy. However, we will use stemming to reduce any p[erformance bottlenecks that might arise. \n",
        "#### Also we will be using both title and content by combining them in a certain format. This combination will be understood by LSTM and will be correctly identified as a seperator "
      ]
    },
    {
      "cell_type": "code",
      "execution_count": 12,
      "metadata": {
        "id": "LsXEQcbmeizZ"
      },
      "outputs": [],
      "source": [
        "import nltk\n",
        "\n",
        "# For regular expression seperation\n",
        "import re\n",
        "\n",
        "# Package for Stemming\n",
        "from nltk.stem.porter import PorterStemmer\n",
        "\n",
        "# We won't be importing stopwords as we don't plan to remove them"
      ]
    },
    {
      "cell_type": "code",
      "execution_count": 13,
      "metadata": {
        "id": "-Ko2H5JwekbU"
      },
      "outputs": [],
      "source": [
        "# Copying to vars\n",
        "x_train = df_train.copy()\n",
        "y_train = df_train['label']"
      ]
    },
    {
      "cell_type": "code",
      "execution_count": 14,
      "metadata": {
        "colab": {
          "base_uri": "https://localhost:8080/"
        },
        "id": "RWJtSj08elZ1",
        "outputId": "ea021f3f-8ad8-4367-f447-283453cb1e44"
      },
      "outputs": [
        {
          "data": {
            "text/plain": [
              "(18285, 18285)"
            ]
          },
          "execution_count": 14,
          "metadata": {},
          "output_type": "execute_result"
        }
      ],
      "source": [
        "len(x_train), len(y_train)"
      ]
    },
    {
      "cell_type": "markdown",
      "metadata": {
        "id": "NuGhjokxep7r"
      },
      "source": [
        "# Data Preprocessing"
      ]
    },
    {
      "cell_type": "code",
      "execution_count": 15,
      "metadata": {
        "id": "ElGjpSBDesDN"
      },
      "outputs": [],
      "source": [
        "ps = PorterStemmer()\n",
        "corpus_title = []\n",
        "corpus_text = []\n",
        "\n",
        "for i in range(0, len(x_train)):\n",
        "\n",
        "    # Replacing all characters other than the letters([^a-zA-Z]) with spaces in title and text of each iteration\n",
        "    title = re.sub('[^a-zA-Z]', ' ', x_train['title'][i])\n",
        "    text = re.sub('[^a-zA-Z]', ' ', x_train['text'][i])\n",
        "\n",
        "    # Converting into lower case\n",
        "    title = title.lower()\n",
        "    text = text.lower()\n",
        "    \n",
        "    # To split the title into the individual words\n",
        "    title = title.split()\n",
        "    # To split the text into the individual words\n",
        "    text = text.split()\n",
        "\n",
        "    title = [ps.stem(word) for word in title]\n",
        "    text = [ps.stem(word) for word in text]\n",
        "\n",
        "    # To join all the individual words into a sentence by joining them with spaces\n",
        "    title= ' '.join(title)\n",
        "    text= ' '.join(text)\n",
        "\n",
        "    corpus_title.append(title)\n",
        "    corpus_text.append(text)"
      ]
    },
    {
      "cell_type": "code",
      "execution_count": 16,
      "metadata": {
        "colab": {
          "base_uri": "https://localhost:8080/"
        },
        "id": "ihz2rLr8etGV",
        "outputId": "de20b895-e7e7-43f4-8e36-a2cb3c4efec6"
      },
      "outputs": [
        {
          "name": "stdout",
          "output_type": "stream",
          "text": [
            "hous dem aid we didn t even see comey s letter until jason chaffetz tweet it \n",
            "\n",
            " hous dem aid we didn t even see comey s letter until jason chaffetz tweet it by darrel lucu on octob subscrib jason chaffetz on the stump in american fork utah imag courtesi michael jolley avail under a creativ common by licens with apolog to keith olbermann there is no doubt who the worst person in the world is thi week fbi director jame comey but accord to a hous democrat aid it look like we also know who the second worst person is as well it turn out that when comey sent hi now infam letter announc that the fbi wa look into email that may be relat to hillari clinton s email server the rank democrat on the relev committe didn t hear about it from comey they found out via a tweet from one of the republican committe chairmen as we now know comey notifi the republican chairmen and democrat rank member of the hous intellig judiciari and oversight committe that hi agenc wa review email it had recent discov in order to see if they contain classifi inform not long after thi letter went out oversight committe chairman jason chaffetz set the polit world ablaz with thi tweet fbi dir just inform me the fbi ha learn of the exist of email that appear to be pertin to the investig case reopen jason chaffetz jasoninthehous octob of cours we now know that thi wa not the case comey wa actual say that it wa review the email in light of an unrel case which we now know to be anthoni weiner s sext with a teenag but appar such littl thing as fact didn t matter to chaffetz the utah republican had alreadi vow to initi a raft of investig if hillari win at least two year worth and possibl an entir term s worth of them appar chaffetz thought the fbi wa alreadi do hi work for him result in a tweet that briefli roil the nation befor cooler head realiz it wa a dud but accord to a senior hous democrat aid misread that letter may have been the least of chaffetz sin that aid told shareblu that hi boss and other democrat didn t even know about comey s letter at the time and onli found out when they check twitter democrat rank member on the relev committe didn t receiv comey s letter until after the republican chairmen in fact the democrat rank member didn receiv it until after the chairman of the oversight and govern reform committe jason chaffetz tweet it out and made it public so let s see if we ve got thi right the fbi director tell chaffetz and other gop committe chairmen about a major develop in a potenti polit explos investig and neither chaffetz nor hi other colleagu had the courtesi to let their democrat counterpart know about it instead accord to thi aid he made them find out about it on twitter there ha alreadi been talk on daili ko that comey himself provid advanc notic of thi letter to chaffetz and other republican give them time to turn on the spin machin that may make for good theater but there is noth so far that even suggest thi is the case after all there is noth so far that suggest that comey wa anyth other than grossli incompet and tone deaf what it doe suggest howev is that chaffetz is act in a way that make dan burton and darrel issa look like model of respons and bipartisanship he didn t even have the decenc to notifi rank member elijah cum about someth thi explos if that doesn t trampl on basic standard of fair i don t know what doe grant it s not like that chaffetz will have to answer for thi he sit in a ridicul republican district anchor in provo and orem it ha a cook partisan vote index of r and gave mitt romney a punish percent of the vote in moreov the republican hous leadership ha given it full support to chaffetz plan fish expedit but that doesn t mean we can t turn the hot light on him after all he is a textbook exampl of what the hous ha becom under republican control and he is also the second worst person in the world about darrel lucu darrel is a someth graduat of the univers of north carolina who consid himself a journalist of the old school an attempt to turn him into a member of the religi right in colleg onli succeed in turn him into the religi right s worst nightmar a charismat christian who is an unapologet liber hi desir to stand up for those who have been scare into silenc onli increas when he surviv an abus three year marriag you may know him on daili ko as christian dem in nc follow him on twitter darrelllucu or connect with him on facebook click here to buy darrel a mello yello connect\n"
          ]
        }
      ],
      "source": [
        "print( corpus_title[0], '\\n\\n', corpus_text[0])"
      ]
    },
    {
      "cell_type": "code",
      "execution_count": 17,
      "metadata": {
        "id": "Nj8u5jr5euWR"
      },
      "outputs": [],
      "source": [
        "# Combiing the words and title into a single entity to use for training later\n",
        "corpus = []\n",
        "# here they are joined using ten spaces and no other special characters. This is because, if the vocabulary size if too small and the special \n",
        "# character is not repeating enough, it might not be represented as it is suppossed to and might lead to anomallies (so i think). \n",
        "for i in range(0, len(corpus_title)):\n",
        "    corpus.append(corpus_title[i]+ '          '+ corpus_text[i])"
      ]
    },
    {
      "cell_type": "code",
      "execution_count": 18,
      "metadata": {
        "colab": {
          "base_uri": "https://localhost:8080/"
        },
        "id": "Q8dUVA0uevVo",
        "outputId": "012493f6-94b0-4efa-85c1-63480b084d4b"
      },
      "outputs": [
        {
          "data": {
            "text/plain": [
              "18285"
            ]
          },
          "execution_count": 18,
          "metadata": {},
          "output_type": "execute_result"
        }
      ],
      "source": [
        "len(corpus)"
      ]
    },
    {
      "cell_type": "code",
      "execution_count": 19,
      "metadata": {
        "id": "wXT0KVabewjS"
      },
      "outputs": [],
      "source": [
        "voc_size = 30000\n",
        "# Large length as we've both title and text\n",
        "max_len = 3000"
      ]
    },
    {
      "cell_type": "code",
      "execution_count": 20,
      "metadata": {
        "id": "Y_bxOT46exaT"
      },
      "outputs": [],
      "source": [
        "# Converting into one hot representation\n",
        "one_hot_rep = [one_hot(lines, voc_size) for lines in corpus]"
      ]
    },
    {
      "cell_type": "code",
      "execution_count": 21,
      "metadata": {
        "colab": {
          "base_uri": "https://localhost:8080/"
        },
        "id": "Zku_4cDFeyjl",
        "outputId": "27332688-7534-476f-c44e-8f33d2c04b6e"
      },
      "outputs": [
        {
          "data": {
            "text/plain": [
              "([22077,\n",
              "  10233,\n",
              "  26912,\n",
              "  17646,\n",
              "  1904,\n",
              "  21782,\n",
              "  10141,\n",
              "  27455,\n",
              "  26369,\n",
              "  5824,\n",
              "  16506,\n",
              "  891,\n",
              "  23345,\n",
              "  13448,\n",
              "  21673,\n",
              "  9926,\n",
              "  22077,\n",
              "  10233,\n",
              "  26912,\n",
              "  17646,\n",
              "  1904,\n",
              "  21782,\n",
              "  10141,\n",
              "  27455,\n",
              "  26369,\n",
              "  5824,\n",
              "  16506,\n",
              "  891,\n",
              "  23345,\n",
              "  13448,\n",
              "  21673,\n",
              "  9926,\n",
              "  3479,\n",
              "  24060,\n",
              "  28864,\n",
              "  28008,\n",
              "  13392,\n",
              "  5450,\n",
              "  23345,\n",
              "  13448,\n",
              "  28008,\n",
              "  9995,\n",
              "  6725,\n",
              "  13015,\n",
              "  15191,\n",
              "  1247,\n",
              "  10460,\n",
              "  7264,\n",
              "  28175,\n",
              "  15132,\n",
              "  10538,\n",
              "  19812,\n",
              "  10732,\n",
              "  847,\n",
              "  20943,\n",
              "  4337,\n",
              "  3479,\n",
              "  16574,\n",
              "  19719,\n",
              "  14877,\n",
              "  14094,\n",
              "  4518,\n",
              "  17869,\n",
              "  1947,\n",
              "  24536,\n",
              "  20379,\n",
              "  22877,\n",
              "  1568,\n",
              "  9995,\n",
              "  15520,\n",
              "  23040,\n",
              "  13015,\n",
              "  9995,\n",
              "  17106,\n",
              "  24536,\n",
              "  20310,\n",
              "  5018,\n",
              "  1079,\n",
              "  28643,\n",
              "  1685,\n",
              "  26369,\n",
              "  18141,\n",
              "  7342,\n",
              "  14094,\n",
              "  847,\n",
              "  22077,\n",
              "  8701,\n",
              "  26912,\n",
              "  9926,\n",
              "  23586,\n",
              "  13592,\n",
              "  17646,\n",
              "  26489,\n",
              "  9750,\n",
              "  1568,\n",
              "  9995,\n",
              "  26720,\n",
              "  15520,\n",
              "  23040,\n",
              "  24536,\n",
              "  16762,\n",
              "  17233,\n",
              "  9926,\n",
              "  26858,\n",
              "  28529,\n",
              "  24312,\n",
              "  11425,\n",
              "  26369,\n",
              "  1699,\n",
              "  24524,\n",
              "  13622,\n",
              "  23085,\n",
              "  16506,\n",
              "  6870,\n",
              "  24312,\n",
              "  9995,\n",
              "  1079,\n",
              "  28639,\n",
              "  23586,\n",
              "  2628,\n",
              "  12614,\n",
              "  24312,\n",
              "  24943,\n",
              "  26471,\n",
              "  866,\n",
              "  14094,\n",
              "  2853,\n",
              "  20780,\n",
              "  5824,\n",
              "  12614,\n",
              "  16648,\n",
              "  9995,\n",
              "  22958,\n",
              "  8701,\n",
              "  28008,\n",
              "  9995,\n",
              "  24302,\n",
              "  21047,\n",
              "  1904,\n",
              "  21782,\n",
              "  25119,\n",
              "  15312,\n",
              "  9926,\n",
              "  12016,\n",
              "  26369,\n",
              "  27482,\n",
              "  13237,\n",
              "  28529,\n",
              "  17581,\n",
              "  847,\n",
              "  21673,\n",
              "  12016,\n",
              "  11810,\n",
              "  5590,\n",
              "  9995,\n",
              "  9631,\n",
              "  21047,\n",
              "  3095,\n",
              "  16762,\n",
              "  17646,\n",
              "  13622,\n",
              "  9750,\n",
              "  26369,\n",
              "  23885,\n",
              "  9995,\n",
              "  9631,\n",
              "  3095,\n",
              "  6667,\n",
              "  8701,\n",
              "  22958,\n",
              "  1046,\n",
              "  5590,\n",
              "  9995,\n",
              "  22077,\n",
              "  22383,\n",
              "  28283,\n",
              "  6667,\n",
              "  2002,\n",
              "  21047,\n",
              "  24312,\n",
              "  24524,\n",
              "  11853,\n",
              "  28639,\n",
              "  15352,\n",
              "  12614,\n",
              "  9926,\n",
              "  14804,\n",
              "  18647,\n",
              "  4693,\n",
              "  13015,\n",
              "  22931,\n",
              "  14094,\n",
              "  27455,\n",
              "  21421,\n",
              "  27482,\n",
              "  24307,\n",
              "  5593,\n",
              "  27031,\n",
              "  10880,\n",
              "  1994,\n",
              "  18681,\n",
              "  20310,\n",
              "  16506,\n",
              "  18963,\n",
              "  28529,\n",
              "  2002,\n",
              "  21047,\n",
              "  18643,\n",
              "  23345,\n",
              "  13448,\n",
              "  14121,\n",
              "  9995,\n",
              "  12267,\n",
              "  17106,\n",
              "  9275,\n",
              "  19719,\n",
              "  20310,\n",
              "  21673,\n",
              "  1079,\n",
              "  26696,\n",
              "  28661,\n",
              "  27031,\n",
              "  26890,\n",
              "  9995,\n",
              "  1079,\n",
              "  22871,\n",
              "  26220,\n",
              "  5590,\n",
              "  9995,\n",
              "  20879,\n",
              "  5590,\n",
              "  12614,\n",
              "  24312,\n",
              "  19548,\n",
              "  14094,\n",
              "  26471,\n",
              "  18518,\n",
              "  14094,\n",
              "  9995,\n",
              "  29242,\n",
              "  11018,\n",
              "  18722,\n",
              "  23345,\n",
              "  13448,\n",
              "  12072,\n",
              "  13392,\n",
              "  5590,\n",
              "  3416,\n",
              "  17646,\n",
              "  13622,\n",
              "  9750,\n",
              "  24312,\n",
              "  20310,\n",
              "  28639,\n",
              "  10880,\n",
              "  9995,\n",
              "  11018,\n",
              "  26369,\n",
              "  28639,\n",
              "  87,\n",
              "  11776,\n",
              "  24312,\n",
              "  9926,\n",
              "  28639,\n",
              "  15352,\n",
              "  9995,\n",
              "  12614,\n",
              "  13015,\n",
              "  23399,\n",
              "  5590,\n",
              "  16547,\n",
              "  20117,\n",
              "  11018,\n",
              "  7174,\n",
              "  17646,\n",
              "  13622,\n",
              "  9750,\n",
              "  14094,\n",
              "  26471,\n",
              "  14187,\n",
              "  15514,\n",
              "  5824,\n",
              "  6471,\n",
              "  19719,\n",
              "  847,\n",
              "  21087,\n",
              "  18141,\n",
              "  5521,\n",
              "  28713,\n",
              "  19929,\n",
              "  22838,\n",
              "  16762,\n",
              "  13856,\n",
              "  1904,\n",
              "  21782,\n",
              "  16328,\n",
              "  14094,\n",
              "  13448,\n",
              "  9995,\n",
              "  10460,\n",
              "  9631,\n",
              "  14804,\n",
              "  29778,\n",
              "  25440,\n",
              "  14094,\n",
              "  22479,\n",
              "  847,\n",
              "  706,\n",
              "  5590,\n",
              "  29242,\n",
              "  21421,\n",
              "  2853,\n",
              "  25477,\n",
              "  606,\n",
              "  9356,\n",
              "  907,\n",
              "  21,\n",
              "  17992,\n",
              "  6667,\n",
              "  22050,\n",
              "  16547,\n",
              "  13737,\n",
              "  15036,\n",
              "  5824,\n",
              "  17992,\n",
              "  5590,\n",
              "  15050,\n",
              "  5521,\n",
              "  13448,\n",
              "  6244,\n",
              "  9995,\n",
              "  1079,\n",
              "  28639,\n",
              "  29778,\n",
              "  13525,\n",
              "  24524,\n",
              "  2727,\n",
              "  3882,\n",
              "  11311,\n",
              "  22829,\n",
              "  13015,\n",
              "  847,\n",
              "  21673,\n",
              "  24312,\n",
              "  25927,\n",
              "  12156,\n",
              "  9995,\n",
              "  19124,\n",
              "  16256,\n",
              "  23351,\n",
              "  14655,\n",
              "  16124,\n",
              "  9926,\n",
              "  28639,\n",
              "  847,\n",
              "  26725,\n",
              "  18141,\n",
              "  7342,\n",
              "  14094,\n",
              "  847,\n",
              "  25682,\n",
              "  22077,\n",
              "  8701,\n",
              "  26912,\n",
              "  17873,\n",
              "  24312,\n",
              "  16506,\n",
              "  24943,\n",
              "  4958,\n",
              "  11152,\n",
              "  9995,\n",
              "  9356,\n",
              "  5590,\n",
              "  13448,\n",
              "  12670,\n",
              "  24312,\n",
              "  26912,\n",
              "  20241,\n",
              "  23089,\n",
              "  24312,\n",
              "  24524,\n",
              "  15054,\n",
              "  6667,\n",
              "  7812,\n",
              "  8701,\n",
              "  1904,\n",
              "  21782,\n",
              "  10141,\n",
              "  9750,\n",
              "  15312,\n",
              "  26369,\n",
              "  5824,\n",
              "  16506,\n",
              "  606,\n",
              "  9995,\n",
              "  22667,\n",
              "  6667,\n",
              "  17828,\n",
              "  13237,\n",
              "  28529,\n",
              "  11425,\n",
              "  27482,\n",
              "  5059,\n",
              "  6824,\n",
              "  8701,\n",
              "  22958,\n",
              "  1046,\n",
              "  28008,\n",
              "  9995,\n",
              "  24302,\n",
              "  21047,\n",
              "  1904,\n",
              "  21782,\n",
              "  19958,\n",
              "  26369,\n",
              "  5824,\n",
              "  16506,\n",
              "  891,\n",
              "  18681,\n",
              "  9995,\n",
              "  9631,\n",
              "  3095,\n",
              "  13015,\n",
              "  13856,\n",
              "  9995,\n",
              "  8701,\n",
              "  22958,\n",
              "  1046,\n",
              "  1904,\n",
              "  19958,\n",
              "  9926,\n",
              "  891,\n",
              "  18681,\n",
              "  9995,\n",
              "  18643,\n",
              "  5590,\n",
              "  9995,\n",
              "  2002,\n",
              "  6667,\n",
              "  3676,\n",
              "  26833,\n",
              "  21047,\n",
              "  23345,\n",
              "  13448,\n",
              "  21673,\n",
              "  9926,\n",
              "  28529,\n",
              "  6667,\n",
              "  10943,\n",
              "  9926,\n",
              "  24955,\n",
              "  9198,\n",
              "  5858,\n",
              "  5824,\n",
              "  27455,\n",
              "  21421,\n",
              "  17646,\n",
              "  3241,\n",
              "  21363,\n",
              "  20310,\n",
              "  1389,\n",
              "  9995,\n",
              "  1079,\n",
              "  28643,\n",
              "  10987,\n",
              "  13448,\n",
              "  6667,\n",
              "  7812,\n",
              "  490,\n",
              "  21047,\n",
              "  3095,\n",
              "  15312,\n",
              "  847,\n",
              "  8694,\n",
              "  13691,\n",
              "  13015,\n",
              "  847,\n",
              "  6934,\n",
              "  12267,\n",
              "  11807,\n",
              "  29242,\n",
              "  6667,\n",
              "  28835,\n",
              "  13448,\n",
              "  13221,\n",
              "  24524,\n",
              "  7812,\n",
              "  17913,\n",
              "  14804,\n",
              "  9995,\n",
              "  28175,\n",
              "  14094,\n",
              "  5858,\n",
              "  21238,\n",
              "  8701,\n",
              "  29303,\n",
              "  9750,\n",
              "  15312,\n",
              "  9926,\n",
              "  22336,\n",
              "  7342,\n",
              "  14094,\n",
              "  20310,\n",
              "  26912,\n",
              "  21370,\n",
              "  10943,\n",
              "  15050,\n",
              "  24134,\n",
              "  28529,\n",
              "  15312,\n",
              "  9926,\n",
              "  28008,\n",
              "  6824,\n",
              "  1947,\n",
              "  22871,\n",
              "  29778,\n",
              "  11152,\n",
              "  10412,\n",
              "  28008,\n",
              "  6289,\n",
              "  28158,\n",
              "  24312,\n",
              "  26369,\n",
              "  29457,\n",
              "  23982,\n",
              "  2615,\n",
              "  20235,\n",
              "  5590,\n",
              "  20310,\n",
              "  16506,\n",
              "  14094,\n",
              "  13448,\n",
              "  6667,\n",
              "  7812,\n",
              "  9631,\n",
              "  20931,\n",
              "  15050,\n",
              "  22667,\n",
              "  14094,\n",
              "  26858,\n",
              "  28008,\n",
              "  9995,\n",
              "  22382,\n",
              "  12810,\n",
              "  24312,\n",
              "  24943,\n",
              "  1825,\n",
              "  3882,\n",
              "  19046,\n",
              "  13400,\n",
              "  18141,\n",
              "  1947,\n",
              "  24536,\n",
              "  490,\n",
              "  9198,\n",
              "  28,\n",
              "  24312,\n",
              "  10141,\n",
              "  11451,\n",
              "  20310,\n",
              "  24536,\n",
              "  9995,\n",
              "  11018,\n",
              "  18681,\n",
              "  11236,\n",
              "  1947,\n",
              "  24536,\n",
              "  490,\n",
              "  9198,\n",
              "  28,\n",
              "  24312,\n",
              "  11451,\n",
              "  24312,\n",
              "  26369,\n",
              "  28639,\n",
              "  8114,\n",
              "  7812,\n",
              "  17304,\n",
              "  19222,\n",
              "  29688,\n",
              "  6667,\n",
              "  8781,\n",
              "  4759,\n",
              "  1816,\n",
              "  9926,\n",
              "  28867,\n",
              "  11451,\n",
              "  29368,\n",
              "  24536,\n",
              "  24312,\n",
              "  13448,\n",
              "  24536,\n",
              "  28091,\n",
              "  13015,\n",
              "  847,\n",
              "  3930,\n",
              "  24312,\n",
              "  1825,\n",
              "  8736,\n",
              "  17306,\n",
              "  6667,\n",
              "  24060,\n",
              "  1555,\n",
              "  23586,\n",
              "  13592,\n",
              "  27744,\n",
              "  5590,\n",
              "  18141,\n",
              "  6667,\n",
              "  28323,\n",
              "  21370,\n",
              "  1904,\n",
              "  21782,\n",
              "  10141,\n",
              "  4958,\n",
              "  9995,\n",
              "  5831,\n",
              "  14094,\n",
              "  23885,\n",
              "  22958,\n",
              "  1046,\n",
              "  17523,\n",
              "  19138,\n",
              "  15312,\n",
              "  28976,\n",
              "  20310,\n",
              "  11807,\n",
              "  21421,\n",
              "  24312,\n",
              "  29575,\n",
              "  21782,\n",
              "  26264,\n",
              "  28008,\n",
              "  9597,\n",
              "  28116,\n",
              "  5590,\n",
              "  28077,\n",
              "  4650,\n",
              "  3880,\n",
              "  21782,\n",
              "  9750,\n",
              "  1816,\n",
              "  28867,\n",
              "  12486,\n",
              "  9926,\n",
              "  5824,\n",
              "  10880,\n",
              "  13592,\n",
              "  24312,\n",
              "  13448,\n",
              "  2207,\n",
              "  4958,\n",
              "  14094,\n",
              "  7105,\n",
              "  3882,\n",
              "  20310,\n",
              "  21370,\n",
              "  23090,\n",
              "  13015,\n",
              "  847,\n",
              "  9386,\n",
              "  9631,\n",
              "  14828,\n",
              "  25681,\n",
              "  13015,\n",
              "  1993,\n",
              "  6667,\n",
              "  21218,\n",
              "  9926,\n",
              "  22871,\n",
              "  847,\n",
              "  9524,\n",
              "  17195,\n",
              "  11405,\n",
              "  29333,\n",
              "  5590,\n",
              "  19810,\n",
              "  6667,\n",
              "  28107,\n",
              "  14602,\n",
              "  17756,\n",
              "  847,\n",
              "  12239,\n",
              "  20912,\n",
              "  5590,\n",
              "  9995,\n",
              "  11405,\n",
              "  13015,\n",
              "  11974,\n",
              "  9995,\n",
              "  9631,\n",
              "  22077,\n",
              "  12371,\n",
              "  22871,\n",
              "  12301,\n",
              "  9926,\n",
              "  23818,\n",
              "  17065,\n",
              "  14094,\n",
              "  13448,\n",
              "  27786,\n",
              "  6776,\n",
              "  7723,\n",
              "  18141,\n",
              "  24312,\n",
              "  29575,\n",
              "  21782,\n",
              "  22705,\n",
              "  17646,\n",
              "  4244,\n",
              "  21782,\n",
              "  26858,\n",
              "  9995,\n",
              "  22411,\n",
              "  23399,\n",
              "  28008,\n",
              "  11311,\n",
              "  18681,\n",
              "  11236,\n",
              "  21370,\n",
              "  24536,\n",
              "  847,\n",
              "  17640,\n",
              "  8449,\n",
              "  5590,\n",
              "  1816,\n",
              "  9995,\n",
              "  22077,\n",
              "  22871,\n",
              "  16881,\n",
              "  10732,\n",
              "  9631,\n",
              "  9709,\n",
              "  6667,\n",
              "  21370,\n",
              "  24536,\n",
              "  26489,\n",
              "  9995,\n",
              "  26720,\n",
              "  15520,\n",
              "  23040,\n",
              "  13015,\n",
              "  9995,\n",
              "  17106,\n",
              "  15312,\n",
              "  24060,\n",
              "  28864,\n",
              "  24060,\n",
              "  24536,\n",
              "  847,\n",
              "  28976,\n",
              "  13653,\n",
              "  5590,\n",
              "  9995,\n",
              "  8734,\n",
              "  5590,\n",
              "  13388,\n",
              "  12874,\n",
              "  1568,\n",
              "  1047,\n",
              "  29457,\n",
              "  847,\n",
              "  9366,\n",
              "  5590,\n",
              "  9995,\n",
              "  24808,\n",
              "  4511,\n",
              "  16547,\n",
              "  23399,\n",
              "  14094,\n",
              "  26858,\n",
              "  11311,\n",
              "  2628,\n",
              "  847,\n",
              "  1046,\n",
              "  5590,\n",
              "  9995,\n",
              "  23286,\n",
              "  1389,\n",
              "  13015,\n",
              "  11717,\n",
              "  17828,\n",
              "  5389,\n",
              "  13015,\n",
              "  26858,\n",
              "  11311,\n",
              "  2628,\n",
              "  9995,\n",
              "  23286,\n",
              "  1389,\n",
              "  5824,\n",
              "  15520,\n",
              "  22253,\n",
              "  847,\n",
              "  12363,\n",
              "  29714,\n",
              "  1568,\n",
              "  24536,\n",
              "  16547,\n",
              "  8343,\n",
              "  11473,\n",
              "  24524,\n",
              "  21576,\n",
              "  14094,\n",
              "  11429,\n",
              "  11266,\n",
              "  3882,\n",
              "  18543,\n",
              "  1568,\n",
              "  4958,\n",
              "  11152,\n",
              "  22624,\n",
              "  2628,\n",
              "  20653,\n",
              "  17828,\n",
              "  23528,\n",
              "  11425,\n",
              "  21370,\n",
              "  28524,\n",
              "  16547,\n",
              "  23832,\n",
              "  2061,\n",
              "  21,\n",
              "  13847,\n",
              "  4397,\n",
              "  24943,\n",
              "  9750,\n",
              "  11311,\n",
              "  28008,\n",
              "  6289,\n",
              "  28158,\n",
              "  16762,\n",
              "  29714,\n",
              "  10233,\n",
              "  13015,\n",
              "  2801,\n",
              "  25232,\n",
              "  11311,\n",
              "  28008,\n",
              "  6824,\n",
              "  19350,\n",
              "  29569,\n",
              "  11918,\n",
              "  19719,\n",
              "  11311,\n",
              "  28008,\n",
              "  21302,\n",
              "  15594,\n",
              "  21779,\n",
              "  14094,\n",
              "  28399,\n",
              "  24060,\n",
              "  847,\n",
              "  2031,\n",
              "  15948,\n",
              "  11918],\n",
              " 856)"
            ]
          },
          "execution_count": 21,
          "metadata": {},
          "output_type": "execute_result"
        }
      ],
      "source": [
        "one_hot_rep[0], len(one_hot_rep[0])     # 856 words in line 1"
      ]
    },
    {
      "cell_type": "code",
      "execution_count": 22,
      "metadata": {
        "colab": {
          "base_uri": "https://localhost:8080/"
        },
        "id": "ItIsHC_aezfr",
        "outputId": "0c2d4df8-0212-4d7a-decf-694fbdef1eec"
      },
      "outputs": [
        {
          "data": {
            "text/plain": [
              "array([[    0,     0,     0, ...,  2031, 15948, 11918],\n",
              "       [    0,     0,     0, ...,  7869,  2473, 23363],\n",
              "       [    0,     0,     0, ..., 24259,  8864, 26348],\n",
              "       ...,\n",
              "       [    0,     0,     0, ...,  9995,  9285,  6373],\n",
              "       [    0,     0,     0, ..., 28008,  9926, 20962],\n",
              "       [    0,     0,     0, ..., 23723, 28956,  7058]], dtype=int32)"
            ]
          },
          "execution_count": 22,
          "metadata": {},
          "output_type": "execute_result"
        }
      ],
      "source": [
        "# Adding padding to later pass to embedding layers\n",
        "embed_inp = pad_sequences(one_hot_rep, max_len, padding='pre')\n",
        "embed_inp"
      ]
    },
    {
      "cell_type": "code",
      "execution_count": 23,
      "metadata": {
        "colab": {
          "base_uri": "https://localhost:8080/"
        },
        "id": "udZW1KGme0TP",
        "outputId": "6b4c936f-5c38-453d-89b8-adba7fc2041f"
      },
      "outputs": [
        {
          "name": "stdout",
          "output_type": "stream",
          "text": [
            "Model: \"sequential\"\n",
            "_________________________________________________________________\n",
            " Layer (type)                Output Shape              Param #   \n",
            "=================================================================\n",
            " embedding (Embedding)       (None, 3000, 100)         3000000   \n",
            "                                                                 \n",
            " lstm (LSTM)                 (None, 1000)              4404000   \n",
            "                                                                 \n",
            " dense (Dense)               (None, 1)                 1001      \n",
            "                                                                 \n",
            "=================================================================\n",
            "Total params: 7,405,001\n",
            "Trainable params: 7,405,001\n",
            "Non-trainable params: 0\n",
            "_________________________________________________________________\n",
            "None\n"
          ]
        }
      ],
      "source": [
        "# Creating a Model\n",
        "embedding_vec_dim = 100\n",
        "model = Sequential()\n",
        "model.add(Embedding(output_dim= embedding_vec_dim, input_length= max_len, input_dim=voc_size))\n",
        "model.add(LSTM(1000))\n",
        "model.add(Dense(1, activation='sigmoid'))\n",
        "model.compile(loss='binary_crossentropy', optimizer='adam', metrics=['accuracy'])\n",
        "print(model.summary())"
      ]
    },
    {
      "cell_type": "code",
      "execution_count": 24,
      "metadata": {
        "id": "mNIah0AXe1FA"
      },
      "outputs": [],
      "source": [
        "# Converting into numpy arrays\n",
        "x_train = np.array(embed_inp, dtype='float32')\n",
        "y_train = np.array(y_train, dtype='float32')"
      ]
    },
    {
      "cell_type": "code",
      "execution_count": 25,
      "metadata": {
        "colab": {
          "base_uri": "https://localhost:8080/"
        },
        "id": "uJi4Dj_ye1__",
        "outputId": "dd6295cc-6a20-4398-95bb-e8de8fd529da"
      },
      "outputs": [
        {
          "data": {
            "text/plain": [
              "((18285, 3000), (18285,))"
            ]
          },
          "execution_count": 25,
          "metadata": {},
          "output_type": "execute_result"
        }
      ],
      "source": [
        "x_train.shape, y_train.shape"
      ]
    },
    {
      "cell_type": "code",
      "execution_count": 26,
      "metadata": {
        "id": "Y8rnni0Ze5_p"
      },
      "outputs": [],
      "source": [
        "# Splitting into test and train\n",
        "from sklearn.model_selection import train_test_split\n",
        "\n",
        "x_train, x_test, y_train, y_test = train_test_split(x_train, y_train, test_size=0.3)"
      ]
    },
    {
      "cell_type": "code",
      "execution_count": 27,
      "metadata": {
        "colab": {
          "base_uri": "https://localhost:8080/"
        },
        "id": "8Gab9JEze6mB",
        "outputId": "a0531a60-7945-491e-dda1-600409cd07d6"
      },
      "outputs": [
        {
          "name": "stdout",
          "output_type": "stream",
          "text": [
            "Epoch 1/10\n",
            "200/200 [==============================] - 912s 5s/step - loss: 0.5189 - accuracy: 0.7661 - val_loss: 0.2823 - val_accuracy: 0.8961\n",
            "Epoch 2/10\n",
            "200/200 [==============================] - 918s 5s/step - loss: 0.3563 - accuracy: 0.8314 - val_loss: 0.4807 - val_accuracy: 0.7444\n",
            "Epoch 3/10\n",
            "200/200 [==============================] - 927s 5s/step - loss: 0.3645 - accuracy: 0.8328 - val_loss: 0.3102 - val_accuracy: 0.8669\n",
            "Epoch 4/10\n",
            "200/200 [==============================] - 945s 5s/step - loss: 0.1539 - accuracy: 0.9407 - val_loss: 0.2431 - val_accuracy: 0.9089\n",
            "Epoch 5/10\n",
            "200/200 [==============================] - 924s 5s/step - loss: 0.0953 - accuracy: 0.9670 - val_loss: 0.1730 - val_accuracy: 0.9371\n",
            "Epoch 6/10\n",
            "200/200 [==============================] - 928s 5s/step - loss: 0.0683 - accuracy: 0.9762 - val_loss: 0.1825 - val_accuracy: 0.9402\n",
            "Epoch 7/10\n",
            "200/200 [==============================] - 927s 5s/step - loss: 0.0329 - accuracy: 0.9895 - val_loss: 0.1943 - val_accuracy: 0.9358\n",
            "Epoch 8/10\n",
            "200/200 [==============================] - 915s 5s/step - loss: 0.0230 - accuracy: 0.9933 - val_loss: 0.4309 - val_accuracy: 0.8801\n",
            "Epoch 9/10\n",
            "200/200 [==============================] - 924s 5s/step - loss: 0.0178 - accuracy: 0.9945 - val_loss: 0.2134 - val_accuracy: 0.9462\n",
            "Epoch 10/10\n",
            "200/200 [==============================] - 930s 5s/step - loss: 0.0236 - accuracy: 0.9929 - val_loss: 0.2034 - val_accuracy: 0.9409\n"
          ]
        }
      ],
      "source": [
        "info = model.fit(x_train, y_train, validation_data=(x_test, y_test), epochs=10, batch_size=64)"
      ]
    },
    {
      "cell_type": "code",
      "execution_count": 31,
      "metadata": {
        "colab": {
          "base_uri": "https://localhost:8080/",
          "height": 281
        },
        "id": "3a0i7jGTe79s",
        "outputId": "ee5644a0-49b2-4b31-f266-4d99cd5ff24d"
      },
      "outputs": [
        {
          "data": {
            "image/png": "[encoded data removed]",
            "text/plain": [
              "<Figure size 432x288 with 1 Axes>"
            ]
          },
          "metadata": {
            "needs_background": "light"
          },
          "output_type": "display_data"
        }
      ],
      "source": [
        "from matplotlib import pyplot as plt\n",
        "plt.title('Train accuracy/loss vs Epochs')\n",
        "plt.plot(info.history['accuracy'])\n",
        "plt.plot(info.history['loss'])\n",
        "plt.show()"
      ]
    },
    {
      "cell_type": "code",
      "execution_count": 32,
      "metadata": {
        "colab": {
          "base_uri": "https://localhost:8080/",
          "height": 281
        },
        "id": "hPPBdSVFUzRb",
        "outputId": "c9763c79-f461-4155-9317-36e1dc3741c3"
      },
      "outputs": [
        {
          "data": {
            "image/png": "[encoded data removed]",
            "text/plain": [
              "<Figure size 432x288 with 1 Axes>"
            ]
          },
          "metadata": {
            "needs_background": "light"
          },
          "output_type": "display_data"
        }
      ],
      "source": [
        "from matplotlib import pyplot as plt\n",
        "plt.title('Validation accuracy/loss vs Epochs')\n",
        "plt.plot(info.history['val_accuracy'])\n",
        "plt.plot(info.history['val_loss'])\n",
        "plt.show()"
      ]
    },
    {
      "cell_type": "code",
      "execution_count": 30,
      "metadata": {
        "id": "J-qLrsREvs69"
      },
      "outputs": [],
      "source": [
        "# Saving the model\n",
        "model.save(os.path.join('Models', 'Model.h5'))"
      ]
    },
    {
      "cell_type": "code",
      "execution_count": 30,
      "metadata": {
        "id": "wfWzYu2dNDES"
      },
      "outputs": [],
      "source": []
    }
  ],
  "metadata": {
    "accelerator": "GPU",
    "colab": {
      "collapsed_sections": [],
      "name": "Fake_News_LSTM.ipynb",
      "provenance": []
    },
    "kernelspec": {
      "display_name": "Python 3",
      "name": "python3"
    },
    "language_info": {
      "name": "python"
    }
  },
  "nbformat": 4,
  "nbformat_minor": 0
}
